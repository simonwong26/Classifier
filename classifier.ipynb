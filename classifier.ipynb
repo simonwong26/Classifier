{
 "cells": [
  {
   "cell_type": "code",
   "execution_count": 2,
   "metadata": {},
   "outputs": [],
   "source": [
    "from math import sqrt\n",
    "import numpy as np\n",
    "import pandas as pd \n",
    "import matplotlib"
   ]
  },
  {
   "cell_type": "code",
   "execution_count": 3,
   "metadata": {},
   "outputs": [],
   "source": [
    "def perceptron(row, wn):\n",
    "\ty = row[1].iloc[819]\n",
    "\tif (y == 1):\n",
    "\t\ty = -1\n",
    "\telse:\n",
    "\t\ty = 1\n",
    "\tx = row[1].iloc[0:819]\n",
    "\tif (y*np.dot(x, wn)<=0):\n",
    "\t\twn += y*x\n",
    "\treturn wn"
   ]
  },
  {
   "cell_type": "code",
   "execution_count": 4,
   "metadata": {},
   "outputs": [],
   "source": [
    "def perceptron2(row, wn):\n",
    "\ty = row[1].iloc[819]\n",
    "\tif (y == 1):\n",
    "\t\ty = -1\n",
    "\telse:\n",
    "\t\ty = 1\n",
    "\tx = row[1].iloc[0:819]\n",
    "\tif (y*np.dot(x, wn)<=0):\n",
    "\t\twn+=y*x\n",
    "\t\treturn wn.copy()\n",
    "\telse:\n",
    "\t\treturn 0"
   ]
  },
  {
   "cell_type": "code",
   "execution_count": 5,
   "metadata": {},
   "outputs": [],
   "source": [
    "def predict1(row, w, y):\n",
    "\tif (np.dot(row, w)<0):\n",
    "\t\tguess = 1\n",
    "\telse:\n",
    "\t\tguess = 2\n",
    "\tif (guess==y):\n",
    "\t\treturn 0\n",
    "\telse:\n",
    "\t\treturn 1"
   ]
  },
  {
   "cell_type": "code",
   "execution_count": 6,
   "metadata": {},
   "outputs": [],
   "source": [
    "def perceptronerror(df, w):\n",
    "\tcount=0\n",
    "\tfor row in df.iterrows():\n",
    "\t\tcount += predict1(row[1][0:819], w, row[1][819])\n",
    "\treturn count\n"
   ]
  },
  {
   "cell_type": "code",
   "execution_count": 7,
   "metadata": {},
   "outputs": [],
   "source": [
    "def predict2(row, listw, listc, y):\n",
    "\tguess = 0\n",
    "\tfor i in range(len(listw)):\n",
    "\t\tguess += listc[i]*np.sign(np.dot(listw[i], row))\n",
    "\tif (guess<0):\n",
    "\t\tguess = 1\n",
    "\telse:\n",
    "\t\tguess = 2\n",
    "\tif (guess==y):\n",
    "\t\treturn 0\n",
    "\telse:\n",
    "\t\treturn 1\n",
    "\n",
    "def votederror(df, listw, listc):\n",
    "\tcount=0\n",
    "\tfor row in df.iterrows():\n",
    "\t\tcount += predict2(row[1][0:819], listw, listc, row[1][819])\n",
    "\treturn count\n"
   ]
  },
  {
   "cell_type": "code",
   "execution_count": 10,
   "metadata": {},
   "outputs": [],
   "source": [
    "def predict3(row, listw, listc, y):\n",
    "\tguess = 0\n",
    "\tfor i in range(len(listw)):\n",
    "\t\tguess += np.dot(listc[i]*listw[i], row)\n",
    "\tif (guess<0):\n",
    "\t\tguess = 1\n",
    "\telse:\n",
    "\t\tguess = 2\n",
    "\tif (guess==y):\n",
    "\t\treturn 0\n",
    "\telse:\n",
    "\t\treturn 1\n",
    "\n",
    "def avgerror(df, listw, listc):\n",
    "\tcount=0\n",
    "\tfor row in df.iterrows():\n",
    "\t\tcount += predict3(row[1][0:819], listw, listc, row[1][819])\n",
    "\treturn count\n"
   ]
  },
  {
   "cell_type": "code",
   "execution_count": 13,
   "metadata": {},
   "outputs": [
    {
     "name": "stdout",
     "output_type": "stream",
     "text": [
      "perceptron error: 0.04128440366972477\n"
     ]
    }
   ],
   "source": [
    "Location = r'C:\\Users\\SimonWCM\\Downloads\\HKU\\Exchange\\UC\\Winter 2020\\CSE151A\\Programming HW3\\pa3train.txt'\n",
    "df = pd.read_csv(Location, sep = \" \", header = None)\n",
    "df = df[df.iloc[:,819] <= 2]\n",
    "Location2 = r'C:\\Users\\SimonWCM\\Downloads\\HKU\\Exchange\\UC\\Winter 2020\\CSE151A\\Programming HW3\\pa3test.txt'\n",
    "df2 = pd.read_csv(Location2, sep = \" \", header = None)\n",
    "df2 = df2[df2.iloc[:,819] <= 2]\n",
    "w = np.zeros(819)\n",
    "wplist = []\n",
    "for row in df.iterrows():\n",
    "\tperceptron(row, w)\n",
    "x = perceptronerror(df, w)\n",
    "print(\"perceptron error: \" + str(x/df.iloc[:,819].count()))\n"
   ]
  },
  {
   "cell_type": "code",
   "execution_count": 12,
   "metadata": {},
   "outputs": [
    {
     "name": "stdout",
     "output_type": "stream",
     "text": [
      "voted perceptron error: 0.06697247706422019\n"
     ]
    }
   ],
   "source": [
    "w = np.zeros(819)\n",
    "clist = []\n",
    "wvlist = []\n",
    "for row in df.iterrows():\n",
    "\tx = perceptron2(row, w)\n",
    "\tif (type(x)!=int):\n",
    "\t\twvlist.append(x)\n",
    "\t\tclist.append(1)\n",
    "\telse:\n",
    "\t\tclist[-1] += 1\n",
    "x = votederror(df, wvlist, clist)\n",
    "print(\"voted perceptron error: \" +str(x/df.iloc[:,819].count()))"
   ]
  },
  {
   "cell_type": "code",
   "execution_count": 12,
   "metadata": {},
   "outputs": [
    {
     "name": "stdout",
     "output_type": "stream",
     "text": [
      "average perceptron error: 0.0798165137614679\n"
     ]
    }
   ],
   "source": [
    "w = np.zeros(819)\n",
    "clist = []\n",
    "walist = []\n",
    "for row in df.iterrows():\n",
    "\tx = perceptron2(row, w)\n",
    "\tif (type(x)!=int):\n",
    "\t\twalist.append(x)\n",
    "\t\tclist.append(1)\n",
    "\telse:\n",
    "\t\tclist[-1] += 1\n",
    "x = avgerror(df, walist, clist)\n",
    "print(\"average perceptron error: \" +str(x/df.iloc[:,819].count()))"
   ]
  },
  {
   "cell_type": "code",
   "execution_count": null,
   "metadata": {},
   "outputs": [],
   "source": [
    "w = np.zeros(819)\n",
    "wplist = []\n",
    "for row in df.iterrows():\n",
    "\tperceptron(row, w)\n",
    "for row in df.iterrows():\n",
    "\tperceptron(row, w)\n",
    "x = perceptronerror(df, w)\n",
    "print(\"two passes perceptron error: \" + str(x/df.iloc[:,819].count()))"
   ]
  },
  {
   "cell_type": "code",
   "execution_count": 14,
   "metadata": {},
   "outputs": [
    {
     "name": "stdout",
     "output_type": "stream",
     "text": [
      "three passes perceptron error: 0.02110091743119266\n"
     ]
    }
   ],
   "source": [
    "w = np.zeros(819)\n",
    "wplist = []\n",
    "for row in df.iterrows():\n",
    "\tperceptron(row, w)\n",
    "for row in df.iterrows():\n",
    "\tperceptron(row, w)\n",
    "for row in df.iterrows():\n",
    "\tperceptron(row, w)\n",
    "x = perceptronerror(df, w)\n",
    "print(\"three passes perceptron error: \" + str(x/df.iloc[:,819].count()))"
   ]
  },
  {
   "cell_type": "code",
   "execution_count": 16,
   "metadata": {},
   "outputs": [
    {
     "name": "stdout",
     "output_type": "stream",
     "text": [
      "0 passes perceptron error: 0.08222811671087533\n",
      "1 passes perceptron error: 0.058355437665782495\n",
      "2 passes perceptron error: 0.023872679045092837\n",
      "3 passes perceptron error: 0.021220159151193633\n"
     ]
    }
   ],
   "source": [
    "w = np.zeros(819)\n",
    "wplist = []\n",
    "for i in range(4):\n",
    "    for row in df2.iterrows():\n",
    "        perceptron(row, w)\n",
    "    x = perceptronerror(df2, w)\n",
    "    print(str(i) + \" passes perceptron error: \" + str(x/df2.iloc[:,819].count()))"
   ]
  },
  {
   "cell_type": "code",
   "execution_count": 23,
   "metadata": {},
   "outputs": [
    {
     "name": "stdout",
     "output_type": "stream",
     "text": [
      "0 passes voted perceptron error: 0.06697247706422019\n",
      "1 passes voted perceptron error: 0.031192660550458717\n",
      "2 passes voted perceptron error: 0.022018348623853212\n",
      "3 passes voted perceptron error: 0.015596330275229359\n"
     ]
    }
   ],
   "source": [
    "w = np.zeros(819)\n",
    "clist = []\n",
    "wvlist = []\n",
    "for i in range(4):\n",
    "    clist = []\n",
    "    wvlist = []\n",
    "    wvlist.append(w)\n",
    "    clist.append(0)\n",
    "    for row in df.iterrows():\n",
    "        x = perceptron2(row, w)\n",
    "        if (type(x)!=int):\n",
    "            wvlist.append(x)\n",
    "            clist.append(1)\n",
    "        else:\n",
    "            clist[-1] += 1\n",
    "    x = votederror(df, wvlist, clist)\n",
    "    print(str(i) +\" passes voted perceptron error: \" +str(x/df.iloc[:,819].count()))"
   ]
  },
  {
   "cell_type": "code",
   "execution_count": 24,
   "metadata": {},
   "outputs": [
    {
     "name": "stdout",
     "output_type": "stream",
     "text": [
      "0 passes voted perceptron error: 0.10875331564986737\n",
      "1 passes voted perceptron error: 0.06896551724137931\n",
      "2 passes voted perceptron error: 0.03183023872679045\n",
      "3 passes voted perceptron error: 0.015915119363395226\n"
     ]
    }
   ],
   "source": [
    "w = np.zeros(819)\n",
    "for i in range(4):\n",
    "    clist = []\n",
    "    wvlist = []\n",
    "    wvlist.append(w)\n",
    "    clist.append(0)\n",
    "    for row in df2.iterrows():\n",
    "        x = perceptron2(row, w)\n",
    "        if (type(x)!=int):\n",
    "            wvlist.append(x)\n",
    "            clist.append(1)\n",
    "        else:\n",
    "            clist[-1] += 1\n",
    "    x = votederror(df2, wvlist, clist)\n",
    "    print(str(i)+ \" passes voted perceptron error: \" +str(x/df2.iloc[:,819].count()))"
   ]
  },
  {
   "cell_type": "code",
   "execution_count": 20,
   "metadata": {},
   "outputs": [
    {
     "name": "stdout",
     "output_type": "stream",
     "text": [
      "0 passes average perceptron error: 0.0798165137614679\n",
      "1 passes average perceptron error: 0.03211009174311927\n",
      "2 passes average perceptron error: 0.01926605504587156\n",
      "3 passes average perceptron error: 0.014678899082568808\n"
     ]
    }
   ],
   "source": [
    "w = np.zeros(819)\n",
    "clist = []\n",
    "walist = []\n",
    "for i in range(4):\n",
    "    clist = []\n",
    "    walist = []\n",
    "    walist.append(w)\n",
    "    clist.append(0)\n",
    "    for row in df.iterrows():\n",
    "        x = perceptron2(row, w)\n",
    "        if (type(x)!=int):\n",
    "            walist.append(x)\n",
    "            clist.append(1)\n",
    "        else:\n",
    "            clist[-1] += 1\n",
    "    x = avgerror(df, walist, clist)\n",
    "    print(str(i) + \" passes average perceptron error: \" +str(x/df.iloc[:,819].count()))"
   ]
  },
  {
   "cell_type": "code",
   "execution_count": 19,
   "metadata": {},
   "outputs": [
    {
     "name": "stdout",
     "output_type": "stream",
     "text": [
      "0 passes average perceptron error: 0.23872679045092837\n",
      "1 passes average perceptron error: 0.08753315649867374\n",
      "2 passes average perceptron error: 0.029177718832891247\n",
      "3 passes average perceptron error: 0.01856763925729443\n"
     ]
    }
   ],
   "source": [
    "w = np.zeros(819)\n",
    "clist = []\n",
    "walist = []\n",
    "for i in range(4):\n",
    "    clist = []\n",
    "    walist = []\n",
    "    walist.append(w)\n",
    "    clist.append(0)\n",
    "    for row in df2.iterrows():\n",
    "        x = perceptron2(row, w)\n",
    "        if (type(x)!=int):\n",
    "            walist.append(x)\n",
    "            clist.append(1)\n",
    "        else:\n",
    "            clist[-1] += 1\n",
    "    x = avgerror(df2, walist, clist)\n",
    "    print(str(i) + \" passes average perceptron error: \" +str(x/df2.iloc[:,819].count()))"
   ]
  },
  {
   "cell_type": "code",
   "execution_count": 26,
   "metadata": {},
   "outputs": [
    {
     "name": "stdout",
     "output_type": "stream",
     "text": [
      "three passes average perceptron error: 0.01926605504587156\n"
     ]
    }
   ],
   "source": [
    "w = np.zeros(819)\n",
    "for i in range(3):\n",
    "    clist = []\n",
    "    walist = []\n",
    "    walist.append(w)\n",
    "    clist.append(0)\n",
    "    for row in df.iterrows():\n",
    "        x = perceptron2(row, w)\n",
    "        if (type(x)!=int):\n",
    "            walist.append(x)\n",
    "            clist.append(1)\n",
    "        else:\n",
    "            clist[-1] += 1\n",
    "x = avgerror(df, walist, clist)\n",
    "print(\"three passes average perceptron error: \" +str(x/df.iloc[:,819].count()))"
   ]
  },
  {
   "cell_type": "code",
   "execution_count": 31,
   "metadata": {},
   "outputs": [
    {
     "name": "stdout",
     "output_type": "stream",
     "text": [
      "0      438\n",
      "1      466\n",
      "2      203\n",
      "3      558\n",
      "4      617\n",
      "      ... \n",
      "814    325\n",
      "815     58\n",
      "816    393\n",
      "817    469\n",
      "818     78\n",
      "Name: 66, Length: 819, dtype: int64\n",
      "79397.0\n",
      "46150.0\n",
      "43600.0\n",
      "-141700.0\n",
      "-84744.0\n",
      "-8720.0\n",
      "-50244.0\n"
     ]
    }
   ],
   "source": [
    "wavg = np.zeros(819)\n",
    "for i in range(len(clist)):\n",
    "    wavg += clist[i]*walist[i]\n",
    "temp = np.argsort(wavg)\n",
    "print(temp)\n",
    "print(wavg[78])\n",
    "print(wavg[469])\n",
    "print(wavg[393])\n",
    "print(wavg[438])\n",
    "print(wavg[466])\n",
    "print(wavg[203])"
   ]
  },
  {
   "cell_type": "code",
   "execution_count": 32,
   "metadata": {
    "scrolled": true
   },
   "outputs": [
    {
     "name": "stdout",
     "output_type": "stream",
     "text": [
      "             0   1\n",
      "0    resources NaN\n",
      "1         last NaN\n",
      "2           of NaN\n",
      "3      freedom NaN\n",
      "4         from NaN\n",
      "..         ...  ..\n",
      "814       ndet NaN\n",
      "815   ucontext NaN\n",
      "816    newmask NaN\n",
      "817      weick NaN\n",
      "818    retinol NaN\n",
      "\n",
      "[819 rows x 2 columns]\n",
      "        0   1\n",
      "438  file NaN\n",
      "           0   1\n",
      "466  program NaN\n",
      "        0   1\n",
      "203  line NaN\n"
     ]
    }
   ],
   "source": [
    "Location3 = r'C:\\Users\\SimonWCM\\Downloads\\HKU\\Exchange\\UC\\Winter 2020\\CSE151A\\Programming HW3\\pa3dictionary.txt'\n",
    "df3 = pd.read_csv(Location3, sep = \" \", header = None)\n",
    "print(df3)\n",
    "print(df3[438:439])\n",
    "print(df3[466:467])\n",
    "print(df3[203:204])\n",
    "print(df3[78:79])\n",
    "print(df3[469:470])\n",
    "print(df3[393:47])"
   ]
  },
  {
   "cell_type": "code",
   "execution_count": null,
   "metadata": {},
   "outputs": [],
   "source": [
    "def ci(i):\n",
    "    "
   ]
  }
 ],
 "metadata": {
  "kernelspec": {
   "display_name": "Python 3",
   "language": "python",
   "name": "python3"
  },
  "language_info": {
   "codemirror_mode": {
    "name": "ipython",
    "version": 3
   },
   "file_extension": ".py",
   "mimetype": "text/x-python",
   "name": "python",
   "nbconvert_exporter": "python",
   "pygments_lexer": "ipython3",
   "version": "3.7.4"
  }
 },
 "nbformat": 4,
 "nbformat_minor": 2
}
